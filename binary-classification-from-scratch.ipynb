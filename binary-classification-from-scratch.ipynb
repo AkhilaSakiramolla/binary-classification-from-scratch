{
 "cells": [
  {
   "cell_type": "markdown",
   "id": "8550151a",
   "metadata": {},
   "source": [
    "# Binary Classification"
   ]
  },
  {
   "cell_type": "markdown",
   "id": "4d10db89",
   "metadata": {},
   "source": [
    "### a. Plot of the dataset where all the points corresponding to one class0 are blue and those of the other class are green, the line dividing both classes should be red"
   ]
  },
  {
   "cell_type": "code",
   "execution_count": 65,
   "id": "cc3eeb4b",
   "metadata": {},
   "outputs": [],
   "source": [
    "# Function to construct a line that passes through a given input point\n",
    "\n",
    "def lineGen(point):\n",
    "    variables = ()\n",
    "    for a in range(-5,5):\n",
    "        for b in range(-5,5):\n",
    "            for c in range(-5,5):\n",
    "                x,y = point\n",
    "                if a*x + b*y + c == 0:\n",
    "                    variables = a,b,c\n",
    "                    break\n",
    "    return variables"
   ]
  },
  {
   "cell_type": "code",
   "execution_count": 66,
   "id": "4857c3a0",
   "metadata": {},
   "outputs": [],
   "source": [
    "# Function to identify a,b,c that satisfy a line for the given input point\n",
    "\n",
    "def classIdentifier(variables,k0,k1):\n",
    "    class0 = []\n",
    "    class1 = []\n",
    "\n",
    "    a,b,c = variables\n",
    "    for x in range(-5,5):\n",
    "        for y in range(-5,5):\n",
    "            if (a*x + b*y + c < 0) & (len(class0) < k0):\n",
    "                var0 = (x,y) \n",
    "                class0.append(var0)\n",
    "            elif (a*x + b*y + c > 0) & (len(class1) < k1):\n",
    "                var1 = (x,y) \n",
    "                class1.append(var1)\n",
    "    return a,b,c,class0,class1"
   ]
  },
  {
   "cell_type": "code",
   "execution_count": 67,
   "id": "d3ecd85c",
   "metadata": {},
   "outputs": [],
   "source": [
    "# Provide an input point, size of class0(k0), size of class1(k1)\n",
    "point = (6,-3)\n",
    "k0 = 7\n",
    "k1 = 8"
   ]
  },
  {
   "cell_type": "code",
   "execution_count": 68,
   "id": "7d269898",
   "metadata": {},
   "outputs": [],
   "source": [
    "variables = lineGen(point)\n",
    "a,b,c,class0,class1 = classIdentifier(variables,k0,k1)"
   ]
  },
  {
   "cell_type": "code",
   "execution_count": 69,
   "id": "961af90e",
   "metadata": {
    "scrolled": true
   },
   "outputs": [
    {
     "data": {
      "text/plain": [
       "[<matplotlib.lines.Line2D at 0x1bfcffc1250>]"
      ]
     },
     "execution_count": 69,
     "metadata": {},
     "output_type": "execute_result"
    },
    {
     "data": {
      "text/plain": [
       "[<matplotlib.lines.Line2D at 0x1bfcffc16d0>]"
      ]
     },
     "execution_count": 69,
     "metadata": {},
     "output_type": "execute_result"
    },
    {
     "data": {
      "text/plain": [
       "[<matplotlib.lines.Line2D at 0x1bfcffc1730>]"
      ]
     },
     "execution_count": 69,
     "metadata": {},
     "output_type": "execute_result"
    },
    {
     "data": {
      "text/plain": [
       "[<matplotlib.lines.Line2D at 0x1bfcffc1cd0>]"
      ]
     },
     "execution_count": 69,
     "metadata": {},
     "output_type": "execute_result"
    },
    {
     "data": {
      "text/plain": [
       "[<matplotlib.lines.Line2D at 0x1bfcffcc130>]"
      ]
     },
     "execution_count": 69,
     "metadata": {},
     "output_type": "execute_result"
    },
    {
     "data": {
      "text/plain": [
       "[<matplotlib.lines.Line2D at 0x1bfcffcc190>]"
      ]
     },
     "execution_count": 69,
     "metadata": {},
     "output_type": "execute_result"
    },
    {
     "data": {
      "text/plain": [
       "[<matplotlib.lines.Line2D at 0x1bfcffcc940>]"
      ]
     },
     "execution_count": 69,
     "metadata": {},
     "output_type": "execute_result"
    },
    {
     "data": {
      "text/plain": [
       "[<matplotlib.lines.Line2D at 0x1bfcffccb20>]"
      ]
     },
     "execution_count": 69,
     "metadata": {},
     "output_type": "execute_result"
    },
    {
     "data": {
      "text/plain": [
       "[<matplotlib.lines.Line2D at 0x1bfcffccdf0>]"
      ]
     },
     "execution_count": 69,
     "metadata": {},
     "output_type": "execute_result"
    },
    {
     "data": {
      "text/plain": [
       "[<matplotlib.lines.Line2D at 0x1bfcffd93a0>]"
      ]
     },
     "execution_count": 69,
     "metadata": {},
     "output_type": "execute_result"
    },
    {
     "data": {
      "text/plain": [
       "[<matplotlib.lines.Line2D at 0x1bfcffd9520>]"
      ]
     },
     "execution_count": 69,
     "metadata": {},
     "output_type": "execute_result"
    },
    {
     "data": {
      "text/plain": [
       "[<matplotlib.lines.Line2D at 0x1bfcffd98e0>]"
      ]
     },
     "execution_count": 69,
     "metadata": {},
     "output_type": "execute_result"
    },
    {
     "data": {
      "text/plain": [
       "[<matplotlib.lines.Line2D at 0x1bfcffd9bb0>]"
      ]
     },
     "execution_count": 69,
     "metadata": {},
     "output_type": "execute_result"
    },
    {
     "data": {
      "text/plain": [
       "[<matplotlib.lines.Line2D at 0x1bfcffd9f10>]"
      ]
     },
     "execution_count": 69,
     "metadata": {},
     "output_type": "execute_result"
    },
    {
     "data": {
      "text/plain": [
       "[<matplotlib.lines.Line2D at 0x1bfcffe6340>]"
      ]
     },
     "execution_count": 69,
     "metadata": {},
     "output_type": "execute_result"
    },
    {
     "data": {
      "text/plain": [
       "[<matplotlib.lines.Line2D at 0x1bfcffe63d0>]"
      ]
     },
     "execution_count": 69,
     "metadata": {},
     "output_type": "execute_result"
    },
    {
     "data": {
      "text/plain": [
       "Text(0.5, 1.0, 'Graph of the required line equation and points divided by the line')"
      ]
     },
     "execution_count": 69,
     "metadata": {},
     "output_type": "execute_result"
    },
    {
     "data": {
      "text/plain": [
       "Text(0.5, 0, 'x')"
      ]
     },
     "execution_count": 69,
     "metadata": {},
     "output_type": "execute_result"
    },
    {
     "data": {
      "text/plain": [
       "Text(0, 0.5, 'y')"
      ]
     },
     "execution_count": 69,
     "metadata": {},
     "output_type": "execute_result"
    },
    {
     "data": {
      "image/png": "[encoded data removed]",
      "text/plain": [
       "<Figure size 432x288 with 1 Axes>"
      ]
     },
     "metadata": {
      "needs_background": "light"
     },
     "output_type": "display_data"
    }
   ],
   "source": [
    "# Plotting the obtained line and elements in class0 and class1\n",
    "\n",
    "X = np.arange(-8, 8)\n",
    "fig, ax = plt.subplots()\n",
    "\n",
    "# For plotting the points in class0 and class1\n",
    "for x,y in class0:\n",
    "    ax.plot(x, y, \"o\",color=\"green\",markersize=7)\n",
    "for x,y in class1:\n",
    "    ax.plot(x, y, \"o\",color=\"blue\",markersize=7)\n",
    "    \n",
    "Y = (c-a*X)/b\n",
    "plt.plot(X, Y,'-r', linewidth=0.8, alpha=0.9)\n",
    "plt.title('Graph of the required line equation and points divided by the line')\n",
    "plt.xlabel('x')\n",
    "plt.ylabel('y')\n",
    "        \n",
    "plt.show()"
   ]
  },
  {
   "cell_type": "markdown",
   "id": "c5c02c94",
   "metadata": {},
   "source": [
    "### b. Write a function that implements this learning algorithm. The input to the function is going to be a dataset represented by the input variable X and the target variable Y . The output of the function should be the chosen w."
   ]
  },
  {
   "cell_type": "code",
   "execution_count": 70,
   "id": "8ac571d1",
   "metadata": {},
   "outputs": [],
   "source": [
    "def calcW(X,Y):\n",
    "    w = (random.randrange(0, 10), random.randrange(0, 10), random.randrange(0, 10))\n",
    "    print(w)\n",
    "    \n",
    "    for i in X:\n",
    "        x,y = i\n",
    "        a,b,c = w\n",
    "        if Y == -1:\n",
    "            if a*x + b*y + c < 0:\n",
    "                continue\n",
    "            else:\n",
    "                delta = Y*np.array(i)\n",
    "                w1 = [sum(x) for x in zip(w, delta)]\n",
    "                w1.append(w[2])\n",
    "                w = tuple(w1)  \n",
    "        elif Y == 1:\n",
    "            if a*x + b*y + c > 0:\n",
    "                    continue\n",
    "            else:\n",
    "                delta = Y*np.array(i)\n",
    "                w1 = [sum(x) for x in zip(w, delta)]\n",
    "                w1.append(w[2])\n",
    "                w = tuple(w1)  \n",
    "    return w"
   ]
  },
  {
   "cell_type": "code",
   "execution_count": 71,
   "id": "bfa0f43a",
   "metadata": {},
   "outputs": [
    {
     "data": {
      "text/plain": [
       "[(-5, -5), (-5, -4), (-5, -3), (-5, -2), (-5, -1), (-5, 0), (-5, 1)]"
      ]
     },
     "execution_count": 71,
     "metadata": {},
     "output_type": "execute_result"
    }
   ],
   "source": [
    "class0"
   ]
  },
  {
   "cell_type": "code",
   "execution_count": 72,
   "id": "69878fdd",
   "metadata": {},
   "outputs": [
    {
     "name": "stdout",
     "output_type": "stream",
     "text": [
      "(1, 4, 2)\n"
     ]
    },
    {
     "data": {
      "text/plain": [
       "(6, 3, 2)"
      ]
     },
     "execution_count": 72,
     "metadata": {},
     "output_type": "execute_result"
    }
   ],
   "source": [
    "calcW(class0,-1)"
   ]
  },
  {
   "cell_type": "code",
   "execution_count": null,
   "id": "1a05253d",
   "metadata": {},
   "outputs": [],
   "source": []
  }
 ],
 "metadata": {
  "kernelspec": {
   "display_name": "Python 3",
   "language": "python",
   "name": "python3"
  },
  "language_info": {
   "codemirror_mode": {
    "name": "ipython",
    "version": 3
   },
   "file_extension": ".py",
   "mimetype": "text/x-python",
   "name": "python",
   "nbconvert_exporter": "python",
   "pygments_lexer": "ipython3",
   "version": "3.8.8"
  }
 },
 "nbformat": 4,
 "nbformat_minor": 5
}
